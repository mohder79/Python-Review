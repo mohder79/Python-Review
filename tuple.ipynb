{
  "nbformat": 4,
  "nbformat_minor": 0,
  "metadata": {
    "colab": {
      "provenance": []
    },
    "kernelspec": {
      "name": "python3",
      "display_name": "Python 3"
    },
    "language_info": {
      "name": "python"
    }
  },
  "cells": [
    {
      "cell_type": "markdown",
      "source": [
        "tuple \n",
        "\n",
        "دیقیقا مثل لیسته همه چی لیست رو داره ولی نمیشه مقادیر داخلش رو مثل لیست تغییر داد و مقادیر ثابت هستند"
      ],
      "metadata": {
        "id": "bKdsy13gr_1a"
      }
    },
    {
      "cell_type": "code",
      "execution_count": 1,
      "metadata": {
        "colab": {
          "base_uri": "https://localhost:8080/"
        },
        "id": "GCa0BWlpr7Wx",
        "outputId": "d6a8ba08-5676-4c95-e91a-973d98088c97"
      },
      "outputs": [
        {
          "output_type": "stream",
          "name": "stdout",
          "text": [
            "3\n"
          ]
        }
      ],
      "source": [
        "my_tuple = (1, 2, 3, True, 'mohder')\n",
        "\n",
        "print(my_tuple[2])"
      ]
    }
  ]
}
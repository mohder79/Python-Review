{
  "nbformat": 4,
  "nbformat_minor": 0,
  "metadata": {
    "colab": {
      "provenance": [],
      "collapsed_sections": []
    },
    "kernelspec": {
      "name": "python3",
      "display_name": "Python 3"
    },
    "language_info": {
      "name": "python"
    }
  },
  "cells": [
    {
      "cell_type": "markdown",
      "source": [
        "همه چیز هایی که برای لیست هستند ابنجا هم هستند \n"
      ],
      "metadata": {
        "id": "6fCcdpQ_7GsE"
      }
    },
    {
      "cell_type": "code",
      "execution_count": null,
      "metadata": {
        "colab": {
          "base_uri": "https://localhost:8080/"
        },
        "id": "kuMg3epCiTlg",
        "outputId": "ef851ec9-0ab2-4707-aa5c-66fc96a0f7a3"
      },
      "outputs": [
        {
          "output_type": "stream",
          "name": "stdout",
          "text": [
            "[12, 45, 56, 'hi', True, 72, 5, 6, 'hiii', False]\n",
            "---------\n",
            "56\n",
            "---------\n"
          ]
        }
      ],
      "source": [
        "my_list1= [12, 45, 56, 'hi', True]\n",
        "my_list2= [72, 5, 6, 'hiii', False]\n",
        "\n",
        "print(my_list1 + my_list2 )\n",
        "\n",
        "print('---------')\n",
        "\n",
        "print(my_list1[2] )\n",
        "\n",
        "print('---------')"
      ]
    },
    {
      "cell_type": "markdown",
      "source": [
        "***تغییر ایتم یک لیست***\n",
        "\n",
        "\n"
      ],
      "metadata": {
        "id": "eucmWCeW8CrC"
      }
    },
    {
      "cell_type": "code",
      "source": [
        "my_list= [12, 45, 56, 'hi', True]\n",
        "\n",
        "my_list[2] = 'boz'\n",
        "\n",
        "print(my_list)"
      ],
      "metadata": {
        "colab": {
          "base_uri": "https://localhost:8080/"
        },
        "id": "JwR-7fMu8GUq",
        "outputId": "81fabbea-2db6-4db8-80d4-5f718747217f"
      },
      "execution_count": null,
      "outputs": [
        {
          "output_type": "stream",
          "name": "stdout",
          "text": [
            "[12, 45, 'boz', 'hi', True]\n"
          ]
        }
      ]
    },
    {
      "cell_type": "markdown",
      "source": [
        "**طول یک لیست . همینطوری که میدونیم اندیسک از ۰ شروع میشه . اگر طول برای ۵ بود یعنی اندیسک از ۰ تا ۴ هستش**\n",
        "\n"
      ],
      "metadata": {
        "id": "bRK9_R3Q8XUH"
      }
    },
    {
      "cell_type": "code",
      "source": [
        "my_list= [12, 45, 56, 'hi', True]\n",
        "\n",
        "print(len(my_list))"
      ],
      "metadata": {
        "colab": {
          "base_uri": "https://localhost:8080/"
        },
        "id": "EvhcQEVH8pjg",
        "outputId": "19aff0cd-e32c-43ba-e4e2-2aad3f57c490"
      },
      "execution_count": null,
      "outputs": [
        {
          "output_type": "stream",
          "name": "stdout",
          "text": [
            "5\n"
          ]
        }
      ]
    },
    {
      "cell_type": "markdown",
      "source": [
        "***اضافه کردن یک مقدار به لیست ***"
        "***از جمع کردن هم میشه استقاده کرد کافیه لیست جدید رو درست کنیم بعد بعلاوشون کنیم ***"
      ],
      "metadata": {
        "id": "pLSjnlVn9Ewp"
      }
    },
    {
      "cell_type": "code",
      "source": [
        "my_list= [12, 45, 56, 'hi', True]\n",
        "\n",
        "my_list.append('mohder')\n",
        "\n",
        "print(my_list)"
      ],
      "metadata": {
        "colab": {
          "base_uri": "https://localhost:8080/"
        },
        "id": "3KMpILn79NCy",
        "outputId": "aa6fbef7-de61-4d1b-c5ed-1c5772c5dcf8"
      },
      "execution_count": null,
      "outputs": [
        {
          "output_type": "stream",
          "name": "stdout",
          "text": [
            "[12, 45, 56, 'hi', True, 'mohder']\n"
          ]
        }
      ]
    },
    {
      "cell_type": "markdown",
      "source": [
        "***نشان دادن یک مقدار و یا حذف کردنش***\n",
        "\n",
        "\n",
        "در حالت عادی دستور pop \n",
        "\n",
        "مقدار اخر رو برمیداره اگر میخوای یک خانه به خصوص رو خذف کنیم باید از ایندکس استفاده کنیم"
      ],
      "metadata": {
        "id": "7OK9hmv49tUS"
      }
    },
    {
      "cell_type": "code",
      "source": [
        "my_list= [12, 45, 56, 'hi', True]\n",
        "\n",
        "popped= my_list.pop()\n",
        "\n",
        "print(my_list)\n",
        "print(popped)"
      ],
      "metadata": {
        "colab": {
          "base_uri": "https://localhost:8080/"
        },
        "id": "bxENxZJa96lK",
        "outputId": "d1128007-dfe5-4102-e970-ce401165386b"
      },
      "execution_count": null,
      "outputs": [
        {
          "output_type": "stream",
          "name": "stdout",
          "text": [
            "[12, 45, 56, 'hi']\n",
            "True\n"
          ]
        }
      ]
    },
    {
      "cell_type": "markdown",
      "source": [
        "**`sort کردن یک لیست`**\n",
        "\n",
        "اگز همه عدد نباشن خطا میده\n",
        "\n",
        "این دستور in place هستش\n",
        "\n",
        "و در جا اعمال میشه "
      ],
      "metadata": {
        "id": "Xku1KTDUn3Ee"
      }
    },
    {
      "cell_type": "code",
      "source": [
        "my_list= [12, 45, 56, 59, 2]\n",
        "\n",
        "my_list.sort()\n",
        "\n",
        "print(my_list)\n"
      ],
      "metadata": {
        "colab": {
          "base_uri": "https://localhost:8080/"
        },
        "id": "dDBeN5XMn_s1",
        "outputId": "b63cc5a8-5b7d-4f42-eacf-01da98ff5d37"
      },
      "execution_count": 6,
      "outputs": [
        {
          "output_type": "stream",
          "name": "stdout",
          "text": [
            "[2, 12, 45, 56, 59]\n"
          ]
        }
      ]
    },
    {
      "cell_type": "markdown",
      "source": [
        "**برعکس کردن یک لیست**\n",
        "\n",
        "reverse\n",
        "\n",
        "\n",
        "این دستور in place هستش\n",
        "\n",
        "یعنی این که همون لیست رو روش تغییرات ایجاد میکنه و یک کپی درست نمیکنه"
      ],
      "metadata": {
        "id": "_gtasupvppZN"
      }
    },
    {
      "cell_type": "code",
      "source": [
        "my_list= [12, 45, 56, 59, 2, 'hi', True]\n",
        "\n",
        "my_list.reverse()\n",
        "\n",
        "print(my_list)"
      ],
      "metadata": {
        "colab": {
          "base_uri": "https://localhost:8080/"
        },
        "id": "tV9hwajNp6E0",
        "outputId": "b24b5837-40a1-4b99-ee7c-ada1426a5a0c"
      },
      "execution_count": 8,
      "outputs": [
        {
          "output_type": "stream",
          "name": "stdout",
          "text": [
            "[True, 'hi', 2, 59, 56, 45, 12]\n"
          ]
        }
      ]
    }
  ]
}

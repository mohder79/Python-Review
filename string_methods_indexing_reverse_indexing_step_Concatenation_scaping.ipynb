{
  "nbformat": 4,
  "nbformat_minor": 0,
  "metadata": {
    "colab": {
      "provenance": [],
      "collapsed_sections": []
    },
    "kernelspec": {
      "name": "python3",
      "display_name": "Python 3"
    },
    "language_info": {
      "name": "python"
    }
  },
  "cells": [
    {
      "cell_type": "markdown",
      "source": [
        "مفهوم indexing و reverse indexing  و step"
      ],
      "metadata": {
        "id": "G5DTDNF9XdkR"
      }
    },
    {
      "cell_type": "code",
      "execution_count": 3,
      "metadata": {
        "colab": {
          "base_uri": "https://localhost:8080/"
        },
        "id": "upTJxuX0WPi3",
        "outputId": "3b78782d-2d02-49f0-fbe2-56e5ca4f963b"
      },
      "outputs": [
        {
          "output_type": "stream",
          "name": "stdout",
          "text": [
            "h\n",
            "hi my\n",
            "r\n",
            " ynm\n",
            "hmnesoe\n",
            "redhom si eman ym ih\n"
          ]
        }
      ],
      "source": [
        "my_str = 'hi my name is mohder'\n",
        "\n",
        "print(my_str[0])\n",
        "\n",
        "print(my_str[0:5])\n",
        "\n",
        "print(my_str[-1])\n",
        "\n",
        "print(my_str[2:10:2])\n",
        "\n",
        "print(my_str[::3])\n",
        "\n",
        "print(my_str[::-1])\n",
        "\n",
        "\n"
      ]
    },
    {
      "cell_type": "markdown",
      "source": [
        "Concatenation \n",
        "\n",
        "یا همون چسباندن تو استرینگ. کافیه بینشون یک + بزاریم"
      ],
      "metadata": {
        "id": "ElK4jaUhaCpY"
      }
    },
    {
      "cell_type": "code",
      "source": [
        "my_str1 = 'hi'\n",
        "my_str2 = 'mohder'\n",
        "\n",
        "my_str3 = my_str1 + my_str2 \n",
        "\n",
        "print(my_str3)\n",
        "#or\n",
        "print(my_str1 + my_str2  )"
      ],
      "metadata": {
        "colab": {
          "base_uri": "https://localhost:8080/"
        },
        "id": "GcDwN7G3aS8f",
        "outputId": "39013d58-2657-48df-909b-40775f1bc0b2"
      },
      "execution_count": 5,
      "outputs": [
        {
          "output_type": "stream",
          "name": "stdout",
          "text": [
            "himohder\n",
            "himohder\n"
          ]
        }
      ]
    },
    {
      "cell_type": "markdown",
      "source": [
        "میتونیم ضرب کنیم استرینگ هامون رو"
      ],
      "metadata": {
        "id": "N9M-nZ5Ra-nH"
      }
    },
    {
      "cell_type": "code",
      "source": [
        "my_str1 = 'hi'\n",
        "my_str2 = 'mohder'\n",
        "\n",
        "\n",
        "print(my_str1 * 5 )\n",
        "\n",
        "my_str3 = my_str1 * 2 + my_str2 + '.' * 3 + 'ops'\n",
        "\n",
        "print(my_str3)\n",
        "\n"
      ],
      "metadata": {
        "colab": {
          "base_uri": "https://localhost:8080/"
        },
        "id": "ghZSHq4oa-Vx",
        "outputId": "1250505c-8d06-430b-e38c-f45bff1f4d6b"
      },
      "execution_count": 8,
      "outputs": [
        {
          "output_type": "stream",
          "name": "stdout",
          "text": [
            "hihihihihi\n",
            "hihimohder...ops\n"
          ]
        }
      ]
    },
    {
      "cell_type": "markdown",
      "source": [
        "scaping مفهوم\n",
        "\n",
        "\n",
        "مثلا میخوایم بریم خط بعد\n",
        "\n",
        "کلا بعد بک اسلش میتونبم از دستور استفاده کنم\n",
        "\n",
        "\\t  به اندازه یک تب میره جلو\n",
        "\n",
        "دوتا بک اسلش یعنی میگی میخوام بک اسلش معمولی داشته باشم و بک اسلش "
      ],
      "metadata": {
        "id": "Jqs5RJ7jcQJI"
      }
    },
    {
      "cell_type": "code",
      "source": [
        "my_str = 'hi my name is \\n mohder'\n",
        "\n",
        "print(my_str)\n",
        "\n",
        "print('------')\n",
        "\n",
        "my_str = 'hi my name is \\n \\'mohder\\''\n",
        "\n",
        "print(my_str)\n",
        "\n",
        "print('------')\n",
        "\n",
        "my_str = 'hi my name is \\t \\'mohder\\''\n",
        "\n",
        "print(my_str)\n",
        "\n",
        "print('------')\n",
        "\n",
        "my_str = 'hi my name is \\\\ \\'mohder\\''\n",
        "\n",
        "print(my_str)"
      ],
      "metadata": {
        "colab": {
          "base_uri": "https://localhost:8080/"
        },
        "id": "lIOktSwxcJGf",
        "outputId": "577c6246-abc4-4a6c-cb3c-152b43af0d43"
      },
      "execution_count": 11,
      "outputs": [
        {
          "output_type": "stream",
          "name": "stdout",
          "text": [
            "hi my name is \n",
            " mohder\n",
            "------\n",
            "hi my name is \n",
            " 'mohder'\n",
            "------\n",
            "hi my name is \t 'mohder'\n",
            "------\n",
            "hi my name is \\ 'mohder'\n"
          ]
        }
      ]
    },
    {
      "cell_type": "markdown",
      "source": [
        "با متد upper\n",
        "\n",
        "حروف رو بزرگ میکنیم \n",
        "\n",
        "با lower \n",
        "\n",
        "کوچیک\n",
        "\n",
        "با split\n",
        "\n",
        "لیست میکنیم اگر مقدار بهش هم بدیم میاد به اون مقدار میرسه و جدا میکنه برای لیست"
      ],
      "metadata": {
        "id": "gHM90EWTgbTF"
      }
    },
    {
      "cell_type": "code",
      "source": [
        "my_str = 'HI my name is MOHDER'\n",
        "\n",
        "print(my_str.upper())\n",
        "\n",
        "print(my_str.lower())\n",
        "\n",
        "print(my_str.split())\n",
        "\n",
        "print(my_str.split('a'))\n"
      ],
      "metadata": {
        "colab": {
          "base_uri": "https://localhost:8080/"
        },
        "id": "u76XlZzIgaqu",
        "outputId": "a9bc1b84-abcb-40c7-9131-e42ba38fdb5c"
      },
      "execution_count": 15,
      "outputs": [
        {
          "output_type": "stream",
          "name": "stdout",
          "text": [
            "HI MY NAME IS MOHDER\n",
            "hi my name is mohder\n",
            "['HI', 'my', 'name', 'is', 'MOHDER']\n",
            "['HI my n', 'me is MOHDER']\n"
          ]
        }
      ]
    }
  ]
}
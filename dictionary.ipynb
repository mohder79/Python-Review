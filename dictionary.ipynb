{
  "nbformat": 4,
  "nbformat_minor": 0,
  "metadata": {
    "colab": {
      "provenance": [],
      "collapsed_sections": []
    },
    "kernelspec": {
      "name": "python3",
      "display_name": "Python 3"
    },
    "language_info": {
      "name": "python"
    }
  },
  "cells": [
    {
      "cell_type": "markdown",
      "source": [
        "**دیکشنری چیه ؟**\n",
        "\n",
        "داده ای که قابلیت ذهیره چندین داده رو دارد\n",
        "\n",
        "در دیکشنری ترتیب معنایی ندارد برعکس لیست\n",
        "\n",
        "در دیکشنری دسترسی با استفاده از ایندیکس معنایی ندارد چون ترتیب معنا نداره\n",
        "\n",
        "دسترسی در دیکشنری با کلید هستش\n",
        "\n",
        "تو دیکشنری هر داده ای میتونیم بزاریم حتی خودش\n",
        "\n",
        "وقتی ترتیب داده مهم نیست بهتره از دبکشنری استفاده کنیم که بدونیم اسم داده چیه و خونا تز باشه داده هامون"
      ],
      "metadata": {
        "id": "JuLX7MIarL20"
      }
    },
    {
      "cell_type": "code",
      "execution_count": 12,
      "metadata": {
        "colab": {
          "base_uri": "https://localhost:8080/"
        },
        "id": "eTiKAT79rI0J",
        "outputId": "1dcd837a-5e88-4e0d-9033-756e15dfe586"
      },
      "outputs": [
        {
          "output_type": "stream",
          "name": "stdout",
          "text": [
            "{'key1': 3, 'key2': 'hi', 'key3': [1, 2, 3, 4], 'key4': {'key1': [5, 6, 7, 8, 9]}}\n",
            "-------------\n",
            "3\n",
            "-------------\n",
            "[1, 2, 3, 4]\n",
            "-------------\n",
            "3\n",
            "-------------\n",
            "9\n",
            "-------------\n",
            "{'key1': 'mohder', 'key2': 'hi', 'key3': [1, 2, 3, 4], 'key4': {'key1': [5, 6, 7, 8, 9]}}\n",
            "-------------\n",
            "{'key1': 'mohder', 'key2': 'hi', 'key3': [1, 2, 3, 4], 'key4': {'key1': [5, 6, 7, 8, 9]}, 'key5': 'wtf'}\n",
            "-------------\n",
            "dict_keys(['key1', 'key2', 'key3', 'key4', 'key5'])\n",
            "-------------\n",
            "dict_values(['mohder', 'hi', [1, 2, 3, 4], {'key1': [5, 6, 7, 8, 9]}, 'wtf'])\n",
            "-------------\n",
            "dict_items([('key1', 'mohder'), ('key2', 'hi'), ('key3', [1, 2, 3, 4]), ('key4', {'key1': [5, 6, 7, 8, 9]}), ('key5', 'wtf')])\n"
          ]
        }
      ],
      "source": [
        "my_dict = {\n",
        "    'key1' : 3,\n",
        "    'key2' : 'hi',\n",
        "    'key3' : [1,2,3,4],\n",
        "    'key4' : {'key1' : [5,6,7,8,9]},\n",
        "\n",
        "\n",
        "\n",
        "}\n",
        "\n",
        "\n",
        "print(my_dict)\n",
        "print('-------------')\n",
        "\n",
        "print(my_dict['key1'])\n",
        "print('-------------')\n",
        "\n",
        "print(my_dict['key3'])\n",
        "print('-------------')\n",
        "\n",
        "print(my_dict['key3'][2])\n",
        "print('-------------')\n",
        "\n",
        "print(my_dict['key4']['key1'][4]) # استفاده از دیکشنری تو دشکنری که توش لیست هست و پرینت یک ایندکس لیست\n",
        "print('-------------')\n",
        "\n",
        "my_dict['key1'] = 'mohder'  # تغییر یک مقدار دیکشنری\n",
        "\n",
        "print(my_dict)\n",
        "\n",
        "print('-------------')\n",
        "\n",
        "my_dict['key5'] = 'wtf'  # تغییر یک مقدار دیکشنری\n",
        "\n",
        "print(my_dict)\n",
        "\n",
        "print('-------------')\n",
        "\n",
        "print(my_dict.keys()) # پرینت کلید های دیکشنری\n",
        "\n",
        "print('-------------')\n",
        "\n",
        "print(my_dict.values()) # پرینت ولیو های دیکشنری\n",
        "\n",
        "print('-------------')\n",
        "\n",
        "print(my_dict.items()) # پرینت کلید و ولیو ها همرمان برای انجام تحلیل روشون ساخاتار پرینت شده تاپل هستش\n",
        "\n"
      ]
    }
  ]
}
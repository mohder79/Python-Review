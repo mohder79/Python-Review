{
  "nbformat": 4,
  "nbformat_minor": 0,
  "metadata": {
    "colab": {
      "provenance": [],
      "collapsed_sections": []
    },
    "kernelspec": {
      "name": "python3",
      "display_name": "Python 3"
    },
    "language_info": {
      "name": "python"
    }
  },
  "cells": [
    {
      "cell_type": "markdown",
      "source": [
        "**کلا میتونیم ازش برای خلوت کردن کد هامون ازش استفاده کنیم**"
      ],
      "metadata": {
        "id": "SmueyAUVYBo2"
      }
    },
    {
      "cell_type": "code",
      "execution_count": null,
      "metadata": {
        "colab": {
          "base_uri": "https://localhost:8080/"
        },
        "id": "cDkDO6aEEWbI",
        "outputId": "cf852e7d-8b07-4adc-cec7-a5ade02c6bce"
      },
      "outputs": [
        {
          "output_type": "stream",
          "name": "stdout",
          "text": [
            "hi my name is mohder\n"
          ]
        }
      ],
      "source": [
        "print('hi {} name is {}'.format('my' , 'mohder'))"
      ]
    },
    {
      "cell_type": "markdown",
      "source": [
        "**قابلیت ایندیکس هم داره**"
      ],
      "metadata": {
        "id": "Ckw53H7aSUYf"
      }
    },
    {
      "cell_type": "code",
      "source": [
        "print('hi {0} name is {1}'.format('my' , 'mohder'))"
      ],
      "metadata": {
        "colab": {
          "base_uri": "https://localhost:8080/"
        },
        "id": "H1rmLYs9UVoe",
        "outputId": "0a2a0b1d-7ec1-4771-8b17-8297641c1c5a"
      },
      "execution_count": 1,
      "outputs": [
        {
          "output_type": "stream",
          "name": "stdout",
          "text": [
            "hi my name is mohder\n"
          ]
        }
      ]
    },
    {
      "cell_type": "code",
      "source": [
        "name = 'foad'\n",
        "print('hi {my} name is {name}'.format(my = 'my' , name ='mohder'))"
      ],
      "metadata": {
        "colab": {
          "base_uri": "https://localhost:8080/"
        },
        "id": "iYTTy-JsUhB9",
        "outputId": "7efe1e03-4d6e-42a1-c277-a9ccd62f4284"
      },
      "execution_count": 4,
      "outputs": [
        {
          "output_type": "stream",
          "name": "stdout",
          "text": [
            "hi my name is mohder\n"
          ]
        }
      ]
    },
    {
      "cell_type": "markdown",
      "source": [
        "**روند کردن عدد**\n",
        "\n",
        "\n",
        "رقم سه تعداد اعشار \n",
        "\n",
        "رقم ۱۰ تعداد فاصله در واقع اسپیس میزاره تا کل عددمون ۱۰ خونه رو اشغال کنه\n",
        "\n",
        "الان عدد من ۵ تا خونه جا گرفته برای همین ۵ تا اسپیس گذاشته"
      ],
      "metadata": {
        "id": "9MRsLMOxYSDz"
      }
    },
    {
      "cell_type": "code",
      "source": [
        "print('my score is {score:10.3f}'.format(score = 10/6))"
      ],
      "metadata": {
        "colab": {
          "base_uri": "https://localhost:8080/"
        },
        "id": "kQPtIOq7YWUk",
        "outputId": "9e7e4daa-acf4-494e-da3f-ea5bcc84514f"
      },
      "execution_count": 8,
      "outputs": [
        {
          "output_type": "stream",
          "name": "stdout",
          "text": [
            "my score is      1.667\n"
          ]
        }
      ]
    }
  ]
}
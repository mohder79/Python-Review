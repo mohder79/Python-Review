{
  "nbformat": 4,
  "nbformat_minor": 0,
  "metadata": {
    "colab": {
      "provenance": []
    },
    "kernelspec": {
      "name": "python3",
      "display_name": "Python 3"
    },
    "language_info": {
      "name": "python"
    }
  },
  "cells": [
    {
      "cell_type": "markdown",
      "source": [
        "نوع داده ست مجموعه  \n",
        "\n",
        "داده ست فاکتور تکراری رو اضافه نمیکنه "
      ],
      "metadata": {
        "id": "c9BOugD1CaBi"
      }
    },
    {
      "cell_type": "code",
      "execution_count": 2,
      "metadata": {
        "colab": {
          "base_uri": "https://localhost:8080/"
        },
        "id": "LY8_HShhCE0I",
        "outputId": "02e76601-c61e-417b-b5ea-4e52381cdb62"
      },
      "outputs": [
        {
          "output_type": "stream",
          "name": "stdout",
          "text": [
            "{2, 3}\n"
          ]
        }
      ],
      "source": [
        "a = set()\n",
        "\n",
        "a.add(3)\n",
        "a.add(2)\n",
        "print(a)"
      ]
    },
    {
      "cell_type": "code",
      "source": [
        "my_list = [1,2,3,4,5,5,5,5,5,5,6,7,8,9]\n",
        "\n",
        "a = set(my_list)\n",
        "\n",
        "print(a)\n",
        "print(list(set(my_list)))"
      ],
      "metadata": {
        "colab": {
          "base_uri": "https://localhost:8080/"
        },
        "id": "kC0LYwyKC1tE",
        "outputId": "cd047eab-a679-407e-b34d-0ed7dbedc6ac"
      },
      "execution_count": 5,
      "outputs": [
        {
          "output_type": "stream",
          "name": "stdout",
          "text": [
            "{1, 2, 3, 4, 5, 6, 7, 8, 9}\n",
            "[1, 2, 3, 4, 5, 6, 7, 8, 9]\n"
          ]
        }
      ]
    },
    {
      "cell_type": "code",
      "source": [],
      "metadata": {
        "id": "qQaBGnUsDQ_x"
      },
      "execution_count": null,
      "outputs": []
    }
  ]
}